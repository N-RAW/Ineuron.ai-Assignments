{
 "cells": [
  {
   "cell_type": "markdown",
   "metadata": {},
   "source": [
    "# ASSIGNMENT 3"
   ]
  },
  {
   "cell_type": "markdown",
   "metadata": {},
   "source": [
    "Q1.1 Write a Python Program to implement your own myreduce() function which works exactly\n",
    "like Python's built-in function reduce()"
   ]
  },
  {
   "cell_type": "code",
   "execution_count": 1,
   "metadata": {},
   "outputs": [
    {
     "name": "stdout",
     "output_type": "stream",
     "text": [
      "Product: 1190700\n"
     ]
    }
   ],
   "source": [
    "def myreduce(number_list):\n",
    "    '''Multiply all one by one '''\n",
    "    result = 1\n",
    "    for n in number_list:\n",
    "        result = result * n\n",
    "    return result\n",
    "\n",
    "list = [2,5,3,6,3,5,7,7,9]\n",
    "print('Product:',myreduce(list))"
   ]
  },
  {
   "cell_type": "markdown",
   "metadata": {},
   "source": [
    "Q1.2 Write a Python program to implement your own myfilter() function which works exactly\n",
    "like Python's built-in function filter()"
   ]
  },
  {
   "cell_type": "code",
   "execution_count": 2,
   "metadata": {},
   "outputs": [
    {
     "name": "stdout",
     "output_type": "stream",
     "text": [
      "Even: [2, 4, 6, 8, 10, 12, 14]\n",
      "Odd: [1, 3, 5, 7, 9, 11, 13, 15]\n"
     ]
    }
   ],
   "source": [
    "#list = [1,2,3,4,5,6,7,8,9,10,11,12,13,14,15]\n",
    "\n",
    "'''Filtering odd & even numbers from the list'''\n",
    "\n",
    "def myfilter(values):\n",
    "    Even = []\n",
    "    Odd = []\n",
    "    for nums in values:\n",
    "        if nums % 2 == 0:\n",
    "            Even.append(nums)\n",
    "        else:\n",
    "            Odd.append(nums)\n",
    "    print('Even:',Even)\n",
    "    print('Odd:',Odd)\n",
    "    \n",
    "myfilter([1,2,3,4,5,6,7,8,9,10,11,12,13,14,15])"
   ]
  },
  {
   "cell_type": "markdown",
   "metadata": {},
   "source": [
    "Q2 Implement List comprehensions to produce the following lists.\n",
    "Write List comprehensions to produce the following Lists"
   ]
  },
  {
   "cell_type": "code",
   "execution_count": 3,
   "metadata": {},
   "outputs": [
    {
     "name": "stdout",
     "output_type": "stream",
     "text": [
      "1st: ['x', 'xx', 'xxx', 'xxxx', 'y', 'yy', 'yyy', 'yyyy', 'z', 'zz', 'zzz', 'zzzz']\n",
      "2nd: ['x', 'y', 'z', 'xx', 'yy', 'zz', 'xxx', 'yyy', 'zzz', 'xxxx', 'yyyy', 'zzzz']\n",
      "3rd: [[2], [3], [4], [3], [4], [5], [4], [5], [6]]\n",
      "4th: [[2, 3, 4, 5], [3, 4, 5, 6], [4, 5, 6, 7], [5, 6, 7, 8]]\n",
      "5th: [(1, 1), (2, 1), (3, 1), (1, 2), (2, 2), (3, 2), (1, 3), (2, 3), (3, 3)]\n"
     ]
    }
   ],
   "source": [
    "list_1 = ['x', 'y', 'z']\n",
    "list_c1 = [item * num for item in list_1 for num in range(1,5)]\n",
    "print('1st:',list_c1)\n",
    "#####\n",
    "list_1 = ['x', 'y', 'z']\n",
    "list_c2 = [item * num for num in range(1,5) for item in list_1] \n",
    "print('2nd:',list_c2)\n",
    "#####\n",
    "list_c3 = [[x+y] for x in range(3) for y in range(2,5)]\n",
    "print('3rd:',list_c3)\n",
    "#####\n",
    "list_c4 = [[a+b for b in range(2, 6)] for a in range(4)]\n",
    "print('4th:',list_c4)\n",
    "#####\n",
    "list_1 = [1,2,3]\n",
    "list_c5 = [(b,a) for a in list_1 for b in list_1]\n",
    "print('5th:',list_c5)"
   ]
  },
  {
   "cell_type": "code",
   "execution_count": null,
   "metadata": {},
   "outputs": [],
   "source": []
  }
 ],
 "metadata": {
  "kernelspec": {
   "display_name": "Python 3",
   "language": "python",
   "name": "python3"
  },
  "language_info": {
   "codemirror_mode": {
    "name": "ipython",
    "version": 3
   },
   "file_extension": ".py",
   "mimetype": "text/x-python",
   "name": "python",
   "nbconvert_exporter": "python",
   "pygments_lexer": "ipython3",
   "version": "3.8.3"
  }
 },
 "nbformat": 4,
 "nbformat_minor": 4
}
