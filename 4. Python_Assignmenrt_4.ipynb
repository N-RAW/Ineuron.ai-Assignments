{
 "cells": [
  {
   "cell_type": "markdown",
   "metadata": {},
   "source": [
    "# ASSIGNMENT 4"
   ]
  },
  {
   "cell_type": "markdown",
   "metadata": {},
   "source": [
    "Q1.1 Write a Python Program(with class concepts) to find the area of the triangle using the below\n",
    "formula.\n",
    "area = (s*(s-a)*(s-b)*(s-c)) ** 0.5\n",
    "Function to take the length of the sides of triangle from user should be defined in the parent\n",
    "class and function to calculate the area should be defined in subclass."
   ]
  },
  {
   "cell_type": "code",
   "execution_count": 1,
   "metadata": {},
   "outputs": [
    {
     "name": "stdin",
     "output_type": "stream",
     "text": [
      "input value for side a in cm: 40\n",
      "input value for side b in cm: 50\n",
      "input value for side c in cm: 70\n"
     ]
    },
    {
     "name": "stdout",
     "output_type": "stream",
     "text": [
      "The area of the triangle is: 979.7958971132713 cubic cm.\n"
     ]
    }
   ],
   "source": [
    "# HERON'S FORMULA\n",
    "class Area_of_triangle:\n",
    "    def __init__(self, s, a, b, c):\n",
    "        self.semi_perimeter = s\n",
    "        self.side_a = a\n",
    "        self.side_b = b\n",
    "        self.side_c = c\n",
    "    def __str__(self):\n",
    "        return 'The area of the triangle is: {} cubic cm.'.format((self.semi_perimeter*(self.semi_perimeter - self.side_a)*(self.semi_perimeter - self.side_b)*(self.semi_perimeter - self.side_c)) ** 0.5)\n",
    "a = int(input('input value for side a in cm:'))\n",
    "b = int(input('input value for side b in cm:'))\n",
    "c = int(input('input value for side c in cm:'))\n",
    "s = (a + b + c)/2\n",
    "T = Area_of_triangle(s,a,b,c)\n",
    "print(T)"
   ]
  },
  {
   "cell_type": "markdown",
   "metadata": {},
   "source": [
    "Q1.2 Write a function filter_long_words() that takes a list of words and an integer n and returns\n",
    "the list of words that are longer than n."
   ]
  },
  {
   "cell_type": "code",
   "execution_count": 2,
   "metadata": {},
   "outputs": [
    {
     "name": "stdin",
     "output_type": "stream",
     "text": [
      "input some words:  class is at 8pm\n",
      "input an integer:  2\n"
     ]
    },
    {
     "name": "stdout",
     "output_type": "stream",
     "text": [
      "List: ['class'] ---Long enough---\n",
      "List: ['class', 'is'] ---Long enough---\n",
      "List: ['class', 'is', 'at'] ---Long enough---\n",
      "List: ['class', 'is', 'at', '8pm'] ---Long enough---\n",
      "List: ---The string is short---\n"
     ]
    }
   ],
   "source": [
    "def filter_long_words(string_list, number):\n",
    "    long_words = []\n",
    "    for i in range(len(string_list)):\n",
    "        if len(string_list[i]) >= number:\n",
    "            long_words.append(string_list[i])\n",
    "        print('List:',long_words, '---Long enough---')\n",
    "    else: \n",
    "        print('List:', '---The string is short---')\n",
    "            \n",
    "string_list = input('input some words: ')\n",
    "string_list = string_list.split()\n",
    "number = int(input('input an integer: '))\n",
    "\n",
    "filter_long_words(string_list, number)"
   ]
  },
  {
   "cell_type": "markdown",
   "metadata": {},
   "source": [
    "Q2.1 Write a Python program using function concept that maps list of words into a list of integers\n",
    "representing the lengths of the corresponding words.\n",
    "Hint: If a list [ ab,cde,erty] is passed on to the python function output should come as [2,3,4]\n",
    "Here 2,3 and 4 are the lengths of the words in the list. "
   ]
  },
  {
   "cell_type": "code",
   "execution_count": 3,
   "metadata": {},
   "outputs": [
    {
     "name": "stdout",
     "output_type": "stream",
     "text": [
      "[5, 7, 7, 5, 9]\n"
     ]
    }
   ],
   "source": [
    "def length(L):\n",
    "    list_len = []\n",
    "    for words in L:\n",
    "        list_len.append(len(words))\n",
    "    print(list_len)\n",
    "\n",
    "length(['grass', 'pokemon', 'ineuron', 'study', 'windows10'])"
   ]
  },
  {
   "cell_type": "markdown",
   "metadata": {},
   "source": [
    "Q2.2 Write a Python function which takes a character (i.e. a string of length 1) and returns True if\n",
    "it is a vowel, False otherwise."
   ]
  },
  {
   "cell_type": "code",
   "execution_count": 4,
   "metadata": {},
   "outputs": [
    {
     "name": "stdin",
     "output_type": "stream",
     "text": [
      "Please input any alphabet: q\n"
     ]
    },
    {
     "name": "stdout",
     "output_type": "stream",
     "text": [
      "False\n"
     ]
    }
   ],
   "source": [
    "def vovel(chars):\n",
    "    all_vovels = 'aeiouAEIOU'\n",
    "    if chars in all_vovels:\n",
    "        return True\n",
    "    else:\n",
    "        return False\n",
    "print(vovel(input('Please input any alphabet:')))"
   ]
  },
  {
   "cell_type": "markdown",
   "metadata": {},
   "source": [
    "## Answer of a random question asked by sir Krish Naik during class on 5th december 2020"
   ]
  },
  {
   "cell_type": "code",
   "execution_count": 5,
   "metadata": {},
   "outputs": [
    {
     "name": "stdout",
     "output_type": "stream",
     "text": [
      "[8, 10, 12, 14, 9, 11]\n"
     ]
    }
   ],
   "source": [
    "#lst_1 = [2,3,4,5,6,7]\n",
    "#lst_2 = [6,7,8,9,3,4]\n",
    "#sum of lst_1 + lst_2 as per respective index value\n",
    "\n",
    "## SOLUTION\n",
    "lst_1 = [2,3,4,5,6,7]\n",
    "lst_2 = [6,7,8,9,3,4]\n",
    "\n",
    "final_list= []\n",
    "for i in range(6):\n",
    "    final_list.append(lst_1[i] + lst_2[i])\n",
    "    \n",
    "print(final_list)"
   ]
  },
  {
   "cell_type": "code",
   "execution_count": null,
   "metadata": {},
   "outputs": [],
   "source": []
  }
 ],
 "metadata": {
  "kernelspec": {
   "display_name": "Python 3",
   "language": "python",
   "name": "python3"
  },
  "language_info": {
   "codemirror_mode": {
    "name": "ipython",
    "version": 3
   },
   "file_extension": ".py",
   "mimetype": "text/x-python",
   "name": "python",
   "nbconvert_exporter": "python",
   "pygments_lexer": "ipython3",
   "version": "3.8.3"
  }
 },
 "nbformat": 4,
 "nbformat_minor": 4
}
